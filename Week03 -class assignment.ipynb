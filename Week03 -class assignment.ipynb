{
 "cells": [
  {
   "cell_type": "code",
   "execution_count": 2,
   "metadata": {},
   "outputs": [
    {
     "name": "stdout",
     "output_type": "stream",
     "text": [
      "sum of two numbers is :\n",
      "6\n",
      "difference of two numbers is :\n",
      "ZERO\n",
      "product of two numbers is :\n",
      "9\n"
     ]
    }
   ],
   "source": [
    "def myfunc(a, b):\n",
    "  sum= a + b\n",
    "  print(\"sum of two numbers is :\")\n",
    "  if sum == 0 :\n",
    "      print('ZERO')\n",
    "  else:\n",
    "    print(sum)\n",
    "    \n",
    "  difference = a - b\n",
    "  print(\"difference of two numbers is :\")\n",
    "  if difference == 0:\n",
    "      print('ZERO')\n",
    "  else:\n",
    "    print(difference)\n",
    "    \n",
    "  product= a * b\n",
    "  print(\"product of two numbers is :\")\n",
    "  if product == 0:\n",
    "      print('ZERO')\n",
    "  else:\n",
    "    print(product)\n",
    "myfunc(3 , 3)"
   ]
  },
  {
   "cell_type": "code",
   "execution_count": null,
   "metadata": {},
   "outputs": [],
   "source": []
  }
 ],
 "metadata": {
  "kernelspec": {
   "display_name": "Python 3",
   "language": "python",
   "name": "python3"
  },
  "language_info": {
   "codemirror_mode": {
    "name": "ipython",
    "version": 3
   },
   "file_extension": ".py",
   "mimetype": "text/x-python",
   "name": "python",
   "nbconvert_exporter": "python",
   "pygments_lexer": "ipython3",
   "version": "3.8.5"
  }
 },
 "nbformat": 4,
 "nbformat_minor": 4
}
